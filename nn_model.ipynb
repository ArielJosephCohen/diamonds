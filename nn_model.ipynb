{
 "cells": [
  {
   "cell_type": "code",
   "execution_count": 8,
   "metadata": {},
   "outputs": [
    {
     "name": "stdout",
     "output_type": "stream",
     "text": [
      "18.269231%\n"
     ]
    }
   ],
   "source": [
    "x = 19/104\n",
    "print(f\"{x :2%}\")"
   ]
  },
  {
   "cell_type": "code",
   "execution_count": 11,
   "metadata": {},
   "outputs": [
    {
     "name": "stdout",
     "output_type": "stream",
     "text": [
      "18.269%\n"
     ]
    }
   ],
   "source": [
    "x = 19/104\n",
    "print(f\"{x :.3%}\")"
   ]
  },
  {
   "cell_type": "code",
   "execution_count": 7,
   "metadata": {},
   "outputs": [
    {
     "name": "stdout",
     "output_type": "stream",
     "text": [
      "18.27%\n"
     ]
    }
   ],
   "source": [
    "x = 19/104\n",
    "print(f\"{x :.2%}\")"
   ]
  },
  {
   "cell_type": "code",
   "execution_count": 14,
   "metadata": {},
   "outputs": [
    {
     "name": "stdout",
     "output_type": "stream",
     "text": [
      "0.183\n"
     ]
    }
   ],
   "source": [
    "x = 19/104\n",
    "print(f\"{x :.3}\")"
   ]
  },
  {
   "cell_type": "code",
   "execution_count": 13,
   "metadata": {},
   "outputs": [
    {
     "name": "stdout",
     "output_type": "stream",
     "text": [
      "0.18\n"
     ]
    }
   ],
   "source": [
    "x = 19/104\n",
    "print(f\"{x :.2}\")"
   ]
  },
  {
   "cell_type": "markdown",
   "metadata": {},
   "source": [
    "# Imports"
   ]
  },
  {
   "cell_type": "code",
   "execution_count": 1,
   "metadata": {},
   "outputs": [],
   "source": [
    "import warnings\n",
    "warnings.filterwarnings('ignore')\n",
    "import pandas as pd\n",
    "import numpy as np\n",
    "import matplotlib.pyplot as plt\n",
    "%matplotlib inline\n",
    "import seaborn as sns\n",
    "from scipy import stats\n",
    "from sklearn.model_selection import train_test_split, cross_val_score, GridSearchCV, ShuffleSplit\n",
    "from sklearn.preprocessing import *\n",
    "from sklearn.decomposition import PCA\n",
    "from sklearn.feature_selection import RFE, RFECV\n",
    "from sklearn.linear_model import *\n",
    "from sklearn.neighbors import KNeighborsClassifier\n",
    "from sklearn.svm import SVC, LinearSVC\n",
    "from sklearn.naive_bayes import GaussianNB\n",
    "from sklearn.ensemble import RandomForestClassifier, RandomForestRegressor\n",
    "from sklearn.tree import DecisionTreeClassifier\n",
    "from sklearn.utils import resample\n",
    "from sklearn.datasets import make_regression\n",
    "from sklearn.metrics import *\n",
    "from sklearn.compose import make_column_transformer\n",
    "from sklearn.pipeline import Pipeline, make_pipeline\n",
    "from xgboost import XGBClassifier, XGBRegressor\n",
    "from imblearn.datasets import make_imbalance\n",
    "import statsmodels.api as sm\n",
    "import tensorflow as tf\n",
    "from tensorflow import keras\n",
    "from tensorflow.keras import layers\n",
    "from keras.models import Sequential\n",
    "from keras.layers import Dense\n",
    "from keras.callbacks import EarlyStopping\n",
    "from keras.utils import to_categorical\n",
    "from keras.wrappers.scikit_learn import KerasClassifier"
   ]
  },
  {
   "cell_type": "code",
   "execution_count": 2,
   "metadata": {},
   "outputs": [],
   "source": [
    "early_stopping_monitor = EarlyStopping(patience=3)"
   ]
  },
  {
   "cell_type": "code",
   "execution_count": 3,
   "metadata": {},
   "outputs": [],
   "source": [
    "def upsample_classes(data, target):\n",
    "    \n",
    "    lst = list(data[target].unique())\n",
    "    \n",
    "    classes = []\n",
    "    for c in lst:\n",
    "        classes.append(data[data[target]==c])\n",
    "    \n",
    "    length = 0\n",
    "    class_lab = None\n",
    "    for c in classes:\n",
    "        if len(c)>length:\n",
    "            length=len(c)\n",
    "            class_lab = c\n",
    "    class_lab = class_lab[target].unique()[0]\n",
    "    \n",
    "    regroup = pd.concat(classes)\n",
    "    maj_class = regroup[regroup[target]==class_lab]\n",
    "\n",
    "    lst.remove(class_lab)\n",
    "    \n",
    "    new_classes=[]\n",
    "    for i in lst:\n",
    "        new_classes.append(resample(data[data[target]==i],replace=True, n_samples=len(maj_class)))\n",
    "\n",
    "    minority_classes = pd.concat(new_classes)\n",
    "    upsample = pd.concat([regroup[regroup[target]==class_lab],minority_classes])\n",
    "\n",
    "    return upsample"
   ]
  },
  {
   "cell_type": "markdown",
   "metadata": {},
   "source": [
    "# continuous first"
   ]
  },
  {
   "cell_type": "code",
   "execution_count": 4,
   "metadata": {},
   "outputs": [],
   "source": [
    "df = pd.read_csv('diamonds.csv')"
   ]
  },
  {
   "cell_type": "code",
   "execution_count": 5,
   "metadata": {},
   "outputs": [],
   "source": [
    "df.drop('Unnamed: 0',axis=1,inplace=True)"
   ]
  },
  {
   "cell_type": "code",
   "execution_count": 6,
   "metadata": {},
   "outputs": [
    {
     "data": {
      "text/html": [
       "<div>\n",
       "<style scoped>\n",
       "    .dataframe tbody tr th:only-of-type {\n",
       "        vertical-align: middle;\n",
       "    }\n",
       "\n",
       "    .dataframe tbody tr th {\n",
       "        vertical-align: top;\n",
       "    }\n",
       "\n",
       "    .dataframe thead th {\n",
       "        text-align: right;\n",
       "    }\n",
       "</style>\n",
       "<table border=\"1\" class=\"dataframe\">\n",
       "  <thead>\n",
       "    <tr style=\"text-align: right;\">\n",
       "      <th></th>\n",
       "      <th>carat</th>\n",
       "      <th>cut</th>\n",
       "      <th>color</th>\n",
       "      <th>clarity</th>\n",
       "      <th>depth</th>\n",
       "      <th>table</th>\n",
       "      <th>price</th>\n",
       "      <th>x</th>\n",
       "      <th>y</th>\n",
       "      <th>z</th>\n",
       "    </tr>\n",
       "  </thead>\n",
       "  <tbody>\n",
       "    <tr>\n",
       "      <th>0</th>\n",
       "      <td>0.23</td>\n",
       "      <td>Ideal</td>\n",
       "      <td>E</td>\n",
       "      <td>SI2</td>\n",
       "      <td>61.5</td>\n",
       "      <td>55.0</td>\n",
       "      <td>326</td>\n",
       "      <td>3.95</td>\n",
       "      <td>3.98</td>\n",
       "      <td>2.43</td>\n",
       "    </tr>\n",
       "    <tr>\n",
       "      <th>1</th>\n",
       "      <td>0.21</td>\n",
       "      <td>Premium</td>\n",
       "      <td>E</td>\n",
       "      <td>SI1</td>\n",
       "      <td>59.8</td>\n",
       "      <td>61.0</td>\n",
       "      <td>326</td>\n",
       "      <td>3.89</td>\n",
       "      <td>3.84</td>\n",
       "      <td>2.31</td>\n",
       "    </tr>\n",
       "    <tr>\n",
       "      <th>2</th>\n",
       "      <td>0.23</td>\n",
       "      <td>Good</td>\n",
       "      <td>E</td>\n",
       "      <td>VS1</td>\n",
       "      <td>56.9</td>\n",
       "      <td>65.0</td>\n",
       "      <td>327</td>\n",
       "      <td>4.05</td>\n",
       "      <td>4.07</td>\n",
       "      <td>2.31</td>\n",
       "    </tr>\n",
       "    <tr>\n",
       "      <th>3</th>\n",
       "      <td>0.29</td>\n",
       "      <td>Premium</td>\n",
       "      <td>I</td>\n",
       "      <td>VS2</td>\n",
       "      <td>62.4</td>\n",
       "      <td>58.0</td>\n",
       "      <td>334</td>\n",
       "      <td>4.20</td>\n",
       "      <td>4.23</td>\n",
       "      <td>2.63</td>\n",
       "    </tr>\n",
       "    <tr>\n",
       "      <th>4</th>\n",
       "      <td>0.31</td>\n",
       "      <td>Good</td>\n",
       "      <td>J</td>\n",
       "      <td>SI2</td>\n",
       "      <td>63.3</td>\n",
       "      <td>58.0</td>\n",
       "      <td>335</td>\n",
       "      <td>4.34</td>\n",
       "      <td>4.35</td>\n",
       "      <td>2.75</td>\n",
       "    </tr>\n",
       "  </tbody>\n",
       "</table>\n",
       "</div>"
      ],
      "text/plain": [
       "   carat      cut color clarity  depth  table  price     x     y     z\n",
       "0   0.23    Ideal     E     SI2   61.5   55.0    326  3.95  3.98  2.43\n",
       "1   0.21  Premium     E     SI1   59.8   61.0    326  3.89  3.84  2.31\n",
       "2   0.23     Good     E     VS1   56.9   65.0    327  4.05  4.07  2.31\n",
       "3   0.29  Premium     I     VS2   62.4   58.0    334  4.20  4.23  2.63\n",
       "4   0.31     Good     J     SI2   63.3   58.0    335  4.34  4.35  2.75"
      ]
     },
     "execution_count": 6,
     "metadata": {},
     "output_type": "execute_result"
    }
   ],
   "source": [
    "df.head()"
   ]
  },
  {
   "cell_type": "code",
   "execution_count": 7,
   "metadata": {},
   "outputs": [],
   "source": [
    "df['volume'] = df.x*df.y*df.z\n",
    "df.drop(['x','y','z'],axis=1,inplace=True)"
   ]
  },
  {
   "cell_type": "code",
   "execution_count": 8,
   "metadata": {},
   "outputs": [
    {
     "data": {
      "text/html": [
       "<div>\n",
       "<style scoped>\n",
       "    .dataframe tbody tr th:only-of-type {\n",
       "        vertical-align: middle;\n",
       "    }\n",
       "\n",
       "    .dataframe tbody tr th {\n",
       "        vertical-align: top;\n",
       "    }\n",
       "\n",
       "    .dataframe thead th {\n",
       "        text-align: right;\n",
       "    }\n",
       "</style>\n",
       "<table border=\"1\" class=\"dataframe\">\n",
       "  <thead>\n",
       "    <tr style=\"text-align: right;\">\n",
       "      <th></th>\n",
       "      <th>carat</th>\n",
       "      <th>cut</th>\n",
       "      <th>color</th>\n",
       "      <th>clarity</th>\n",
       "      <th>depth</th>\n",
       "      <th>table</th>\n",
       "      <th>price</th>\n",
       "      <th>volume</th>\n",
       "    </tr>\n",
       "  </thead>\n",
       "  <tbody>\n",
       "    <tr>\n",
       "      <th>0</th>\n",
       "      <td>0.23</td>\n",
       "      <td>Ideal</td>\n",
       "      <td>E</td>\n",
       "      <td>SI2</td>\n",
       "      <td>61.5</td>\n",
       "      <td>55.0</td>\n",
       "      <td>326</td>\n",
       "      <td>38.202030</td>\n",
       "    </tr>\n",
       "    <tr>\n",
       "      <th>1</th>\n",
       "      <td>0.21</td>\n",
       "      <td>Premium</td>\n",
       "      <td>E</td>\n",
       "      <td>SI1</td>\n",
       "      <td>59.8</td>\n",
       "      <td>61.0</td>\n",
       "      <td>326</td>\n",
       "      <td>34.505856</td>\n",
       "    </tr>\n",
       "    <tr>\n",
       "      <th>2</th>\n",
       "      <td>0.23</td>\n",
       "      <td>Good</td>\n",
       "      <td>E</td>\n",
       "      <td>VS1</td>\n",
       "      <td>56.9</td>\n",
       "      <td>65.0</td>\n",
       "      <td>327</td>\n",
       "      <td>38.076885</td>\n",
       "    </tr>\n",
       "    <tr>\n",
       "      <th>3</th>\n",
       "      <td>0.29</td>\n",
       "      <td>Premium</td>\n",
       "      <td>I</td>\n",
       "      <td>VS2</td>\n",
       "      <td>62.4</td>\n",
       "      <td>58.0</td>\n",
       "      <td>334</td>\n",
       "      <td>46.724580</td>\n",
       "    </tr>\n",
       "    <tr>\n",
       "      <th>4</th>\n",
       "      <td>0.31</td>\n",
       "      <td>Good</td>\n",
       "      <td>J</td>\n",
       "      <td>SI2</td>\n",
       "      <td>63.3</td>\n",
       "      <td>58.0</td>\n",
       "      <td>335</td>\n",
       "      <td>51.917250</td>\n",
       "    </tr>\n",
       "  </tbody>\n",
       "</table>\n",
       "</div>"
      ],
      "text/plain": [
       "   carat      cut color clarity  depth  table  price     volume\n",
       "0   0.23    Ideal     E     SI2   61.5   55.0    326  38.202030\n",
       "1   0.21  Premium     E     SI1   59.8   61.0    326  34.505856\n",
       "2   0.23     Good     E     VS1   56.9   65.0    327  38.076885\n",
       "3   0.29  Premium     I     VS2   62.4   58.0    334  46.724580\n",
       "4   0.31     Good     J     SI2   63.3   58.0    335  51.917250"
      ]
     },
     "execution_count": 8,
     "metadata": {},
     "output_type": "execute_result"
    }
   ],
   "source": [
    "df.head()"
   ]
  },
  {
   "cell_type": "code",
   "execution_count": 9,
   "metadata": {},
   "outputs": [],
   "source": [
    "for col in df.select_dtypes(include='O').columns:\n",
    "    df[col] = LabelEncoder().fit_transform(df[col])\n",
    "    df[col] = df[col].astype(float)"
   ]
  },
  {
   "cell_type": "code",
   "execution_count": 10,
   "metadata": {},
   "outputs": [],
   "source": [
    "X = df.drop('price',axis=1)\n",
    "y = df.price\n",
    "X_train, X_test, y_train, y_test = train_test_split(X,y,random_state=14)"
   ]
  },
  {
   "cell_type": "code",
   "execution_count": 11,
   "metadata": {},
   "outputs": [],
   "source": [
    "model = Sequential()\n",
    "\n",
    "n_cols = X_train.shape[1]\n",
    "\n",
    "model.add(Dense(10, activation = 'relu', input_shape = (n_cols, )))\n",
    "model.add(Dense(10, activation = 'relu'))\n",
    "model.add(Dense(1))\n",
    "\n",
    "model.compile(optimizer = 'adam', loss = 'mean_squared_error')"
   ]
  },
  {
   "cell_type": "code",
   "execution_count": 12,
   "metadata": {},
   "outputs": [
    {
     "name": "stdout",
     "output_type": "stream",
     "text": [
      "Epoch 1/30\n",
      "1012/1012 [==============================] - 1s 1ms/step - loss: 14741368.0000 - val_loss: 4408494.5000\n",
      "Epoch 2/30\n",
      "1012/1012 [==============================] - 1s 942us/step - loss: 3219980.0000 - val_loss: 2323380.7500\n",
      "Epoch 3/30\n",
      "1012/1012 [==============================] - 1s 960us/step - loss: 2819279.5000 - val_loss: 2218742.5000\n",
      "Epoch 4/30\n",
      "1012/1012 [==============================] - 1s 945us/step - loss: 2728769.7500 - val_loss: 2144661.2500\n",
      "Epoch 5/30\n",
      "1012/1012 [==============================] - 1s 984us/step - loss: 2604113.7500 - val_loss: 2016174.8750\n",
      "Epoch 6/30\n",
      "1012/1012 [==============================] - 1s 940us/step - loss: 2506410.2500 - val_loss: 1929031.0000\n",
      "Epoch 7/30\n",
      "1012/1012 [==============================] - 1s 941us/step - loss: 2413221.5000 - val_loss: 1857556.7500\n",
      "Epoch 8/30\n",
      "1012/1012 [==============================] - 1s 944us/step - loss: 2343714.2500 - val_loss: 1808790.7500\n",
      "Epoch 9/30\n",
      "1012/1012 [==============================] - 1s 940us/step - loss: 2281247.2500 - val_loss: 1763182.7500\n",
      "Epoch 10/30\n",
      "1012/1012 [==============================] - 1s 956us/step - loss: 2225650.5000 - val_loss: 1726402.0000\n",
      "Epoch 11/30\n",
      "1012/1012 [==============================] - 1s 945us/step - loss: 2178149.0000 - val_loss: 1703788.1250\n",
      "Epoch 12/30\n",
      "1012/1012 [==============================] - 1s 937us/step - loss: 2133629.0000 - val_loss: 1671750.1250\n",
      "Epoch 13/30\n",
      "1012/1012 [==============================] - 1s 1ms/step - loss: 2091211.3750 - val_loss: 1643506.3750\n",
      "Epoch 14/30\n",
      "1012/1012 [==============================] - 1s 1ms/step - loss: 2063025.7500 - val_loss: 1633779.2500\n",
      "Epoch 15/30\n",
      "1012/1012 [==============================] - 1s 1ms/step - loss: 2024528.3750 - val_loss: 1611566.7500\n",
      "Epoch 16/30\n",
      "1012/1012 [==============================] - 1s 1ms/step - loss: 2000846.5000 - val_loss: 1608404.2500\n",
      "Epoch 17/30\n",
      "1012/1012 [==============================] - 1s 1ms/step - loss: 1966182.5000 - val_loss: 1577183.5000\n",
      "Epoch 18/30\n",
      "1012/1012 [==============================] - 1s 1ms/step - loss: 1943264.1250 - val_loss: 1561239.2500\n",
      "Epoch 19/30\n",
      "1012/1012 [==============================] - 1s 985us/step - loss: 1917132.2500 - val_loss: 1564882.2500\n",
      "Epoch 20/30\n",
      "1012/1012 [==============================] - 1s 942us/step - loss: 1896521.8750 - val_loss: 1551428.8750\n",
      "Epoch 21/30\n",
      "1012/1012 [==============================] - 1s 1ms/step - loss: 1866885.1250 - val_loss: 1526366.6250\n",
      "Epoch 22/30\n",
      "1012/1012 [==============================] - 1s 1ms/step - loss: 1845768.3750 - val_loss: 1516089.1250\n",
      "Epoch 23/30\n",
      "1012/1012 [==============================] - 1s 1ms/step - loss: 1827544.2500 - val_loss: 1501623.6250\n",
      "Epoch 24/30\n",
      "1012/1012 [==============================] - 1s 1ms/step - loss: 1804017.3750 - val_loss: 1491524.5000\n",
      "Epoch 25/30\n",
      "1012/1012 [==============================] - 1s 981us/step - loss: 1786824.0000 - val_loss: 1483220.6250\n",
      "Epoch 26/30\n",
      "1012/1012 [==============================] - 1s 940us/step - loss: 1764249.3750 - val_loss: 1474053.7500\n",
      "Epoch 27/30\n",
      "1012/1012 [==============================] - 1s 961us/step - loss: 1745382.1250 - val_loss: 1463414.8750\n",
      "Epoch 28/30\n",
      "1012/1012 [==============================] - 1s 1ms/step - loss: 1727860.6250 - val_loss: 1458719.6250\n",
      "Epoch 29/30\n",
      "1012/1012 [==============================] - 1s 1ms/step - loss: 1710574.5000 - val_loss: 1443764.7500\n",
      "Epoch 30/30\n",
      "1012/1012 [==============================] - 1s 957us/step - loss: 1691504.7500 - val_loss: 1474859.6250\n"
     ]
    },
    {
     "data": {
      "text/plain": [
       "<tensorflow.python.keras.callbacks.History at 0x7faf6e3489d0>"
      ]
     },
     "execution_count": 12,
     "metadata": {},
     "output_type": "execute_result"
    }
   ],
   "source": [
    "model.fit(X_train, y_train, validation_split=0.2, epochs = 30, callbacks=early_stopping_monitor)"
   ]
  },
  {
   "cell_type": "code",
   "execution_count": 13,
   "metadata": {},
   "outputs": [],
   "source": [
    "preds = model.predict(X_test)"
   ]
  },
  {
   "cell_type": "code",
   "execution_count": 14,
   "metadata": {},
   "outputs": [
    {
     "name": "stdout",
     "output_type": "stream",
     "text": [
      "0.9017847694105239\n",
      "763.2608433006293\n"
     ]
    }
   ],
   "source": [
    "print(r2_score(y_test,preds))\n",
    "print(mean_absolute_error(y_test,preds))"
   ]
  },
  {
   "cell_type": "code",
   "execution_count": 15,
   "metadata": {},
   "outputs": [
    {
     "name": "stdout",
     "output_type": "stream",
     "text": [
      "Epoch 1/30\n",
      "1012/1012 [==============================] - 2s 2ms/step - loss: 3486223.0000 - val_loss: 1547608.2500\n",
      "Epoch 2/30\n",
      "1012/1012 [==============================] - 1s 1ms/step - loss: 2161514.7500 - val_loss: 1234288.5000\n",
      "Epoch 3/30\n",
      "1012/1012 [==============================] - 1s 1ms/step - loss: 1582822.6250 - val_loss: 1116687.5000\n",
      "Epoch 4/30\n",
      "1012/1012 [==============================] - 1s 1ms/step - loss: 1258404.0000 - val_loss: 1132536.7500\n",
      "Epoch 5/30\n",
      "1012/1012 [==============================] - 1s 1ms/step - loss: 1205241.1250 - val_loss: 1112664.3750\n",
      "Epoch 6/30\n",
      "1012/1012 [==============================] - 1s 1ms/step - loss: 1154736.5000 - val_loss: 1111808.6250\n",
      "Epoch 7/30\n",
      "1012/1012 [==============================] - 1s 1ms/step - loss: 1140422.6250 - val_loss: 1076430.8750\n",
      "Epoch 8/30\n",
      "1012/1012 [==============================] - 1s 1ms/step - loss: 1141080.2500 - val_loss: 1046665.4375\n",
      "Epoch 9/30\n",
      "1012/1012 [==============================] - 1s 1ms/step - loss: 1144466.3750 - val_loss: 1049273.3750\n",
      "Epoch 10/30\n",
      "1012/1012 [==============================] - 1s 1ms/step - loss: 1136408.8750 - val_loss: 1085686.1250\n",
      "Epoch 11/30\n",
      "1012/1012 [==============================] - 1s 1ms/step - loss: 1129831.6250 - val_loss: 1038233.1875\n",
      "Epoch 12/30\n",
      "1012/1012 [==============================] - 1s 1ms/step - loss: 1107855.5000 - val_loss: 1218398.1250\n",
      "Epoch 13/30\n",
      "1012/1012 [==============================] - 1s 1ms/step - loss: 1102169.2500 - val_loss: 1061389.7500\n",
      "Epoch 14/30\n",
      "1012/1012 [==============================] - 1s 1ms/step - loss: 1083536.8750 - val_loss: 991671.9375\n",
      "Epoch 15/30\n",
      "1012/1012 [==============================] - 1s 1ms/step - loss: 1058908.8750 - val_loss: 953200.8125\n",
      "Epoch 16/30\n",
      "1012/1012 [==============================] - 1s 1ms/step - loss: 1027275.6250 - val_loss: 1181390.7500\n",
      "Epoch 17/30\n",
      "1012/1012 [==============================] - 2s 2ms/step - loss: 950225.2500 - val_loss: 828531.4375\n",
      "Epoch 18/30\n",
      "1012/1012 [==============================] - 2s 2ms/step - loss: 860051.5000 - val_loss: 827618.7500\n",
      "Epoch 19/30\n",
      "1012/1012 [==============================] - 1s 1ms/step - loss: 789775.4375 - val_loss: 729862.6875\n",
      "Epoch 20/30\n",
      "1012/1012 [==============================] - 1s 1ms/step - loss: 738190.6250 - val_loss: 670833.5000\n",
      "Epoch 21/30\n",
      "1012/1012 [==============================] - 1s 1ms/step - loss: 686656.0000 - val_loss: 615950.8750\n",
      "Epoch 22/30\n",
      "1012/1012 [==============================] - 1s 1ms/step - loss: 658139.5625 - val_loss: 666114.6250\n",
      "Epoch 23/30\n",
      "1012/1012 [==============================] - 1s 1ms/step - loss: 636515.1250 - val_loss: 597224.9375\n",
      "Epoch 24/30\n",
      "1012/1012 [==============================] - 1s 1ms/step - loss: 591509.6875 - val_loss: 595262.1875\n",
      "Epoch 25/30\n",
      "1012/1012 [==============================] - 1s 1ms/step - loss: 571940.4375 - val_loss: 521622.0938\n",
      "Epoch 26/30\n",
      "1012/1012 [==============================] - 1s 1ms/step - loss: 549159.5625 - val_loss: 467910.2500\n",
      "Epoch 27/30\n",
      "1012/1012 [==============================] - 1s 1ms/step - loss: 520293.0312 - val_loss: 458785.4688\n",
      "Epoch 28/30\n",
      "1012/1012 [==============================] - 1s 1ms/step - loss: 524828.6250 - val_loss: 508031.7812\n",
      "Epoch 29/30\n",
      "1012/1012 [==============================] - 1s 1ms/step - loss: 487504.8438 - val_loss: 451233.7812\n",
      "Epoch 30/30\n",
      "1012/1012 [==============================] - 1s 1ms/step - loss: 492339.8125 - val_loss: 454723.6562\n"
     ]
    },
    {
     "data": {
      "text/plain": [
       "<tensorflow.python.keras.callbacks.History at 0x7faf5131a0d0>"
      ]
     },
     "execution_count": 15,
     "metadata": {},
     "output_type": "execute_result"
    }
   ],
   "source": [
    "model2 = Sequential()\n",
    "\n",
    "model2.add(Dense(200, activation='relu', input_shape=(n_cols,)))\n",
    "model2.add(Dense(200, activation='relu'))\n",
    "model2.add(Dense(200, activation='relu'))\n",
    "model2.add(Dense(1))\n",
    "\n",
    "model2.compile(optimizer = 'adam', loss = 'mean_squared_error')\n",
    "\n",
    "model2.fit(X_train, y_train, validation_split = 0.2, epochs = 30, callbacks = early_stopping_monitor)"
   ]
  },
  {
   "cell_type": "code",
   "execution_count": 16,
   "metadata": {},
   "outputs": [],
   "source": [
    "preds2 = model2.predict(X_test)"
   ]
  },
  {
   "cell_type": "code",
   "execution_count": 17,
   "metadata": {},
   "outputs": [
    {
     "name": "stdout",
     "output_type": "stream",
     "text": [
      "0.9674075284004763\n",
      "380.4542182806381\n"
     ]
    }
   ],
   "source": [
    "print(r2_score(y_test,preds2))\n",
    "print(mean_absolute_error(y_test,preds2))"
   ]
  },
  {
   "cell_type": "markdown",
   "metadata": {},
   "source": [
    "# discrete"
   ]
  },
  {
   "cell_type": "code",
   "execution_count": 18,
   "metadata": {},
   "outputs": [],
   "source": [
    "df2 = pd.read_csv('sample.csv')"
   ]
  },
  {
   "cell_type": "code",
   "execution_count": 19,
   "metadata": {},
   "outputs": [
    {
     "data": {
      "text/html": [
       "<div>\n",
       "<style scoped>\n",
       "    .dataframe tbody tr th:only-of-type {\n",
       "        vertical-align: middle;\n",
       "    }\n",
       "\n",
       "    .dataframe tbody tr th {\n",
       "        vertical-align: top;\n",
       "    }\n",
       "\n",
       "    .dataframe thead th {\n",
       "        text-align: right;\n",
       "    }\n",
       "</style>\n",
       "<table border=\"1\" class=\"dataframe\">\n",
       "  <thead>\n",
       "    <tr style=\"text-align: right;\">\n",
       "      <th></th>\n",
       "      <th>Unnamed: 0</th>\n",
       "      <th>carat</th>\n",
       "      <th>cut</th>\n",
       "      <th>color</th>\n",
       "      <th>clarity</th>\n",
       "      <th>depth</th>\n",
       "      <th>table</th>\n",
       "      <th>price</th>\n",
       "      <th>price_bin</th>\n",
       "      <th>volume</th>\n",
       "    </tr>\n",
       "  </thead>\n",
       "  <tbody>\n",
       "    <tr>\n",
       "      <th>0</th>\n",
       "      <td>0</td>\n",
       "      <td>0.23</td>\n",
       "      <td>Ideal</td>\n",
       "      <td>E</td>\n",
       "      <td>SI2</td>\n",
       "      <td>61.5</td>\n",
       "      <td>55.0</td>\n",
       "      <td>326.0</td>\n",
       "      <td>0.0</td>\n",
       "      <td>38.202030</td>\n",
       "    </tr>\n",
       "    <tr>\n",
       "      <th>1</th>\n",
       "      <td>1</td>\n",
       "      <td>0.21</td>\n",
       "      <td>Premium</td>\n",
       "      <td>E</td>\n",
       "      <td>SI1</td>\n",
       "      <td>59.8</td>\n",
       "      <td>61.0</td>\n",
       "      <td>326.0</td>\n",
       "      <td>0.0</td>\n",
       "      <td>34.505856</td>\n",
       "    </tr>\n",
       "    <tr>\n",
       "      <th>2</th>\n",
       "      <td>2</td>\n",
       "      <td>0.23</td>\n",
       "      <td>Good</td>\n",
       "      <td>E</td>\n",
       "      <td>VS1</td>\n",
       "      <td>56.9</td>\n",
       "      <td>65.0</td>\n",
       "      <td>327.0</td>\n",
       "      <td>0.0</td>\n",
       "      <td>38.076885</td>\n",
       "    </tr>\n",
       "    <tr>\n",
       "      <th>3</th>\n",
       "      <td>3</td>\n",
       "      <td>0.29</td>\n",
       "      <td>Premium</td>\n",
       "      <td>I</td>\n",
       "      <td>VS2</td>\n",
       "      <td>62.4</td>\n",
       "      <td>58.0</td>\n",
       "      <td>334.0</td>\n",
       "      <td>0.0</td>\n",
       "      <td>46.724580</td>\n",
       "    </tr>\n",
       "    <tr>\n",
       "      <th>4</th>\n",
       "      <td>4</td>\n",
       "      <td>0.31</td>\n",
       "      <td>Good</td>\n",
       "      <td>J</td>\n",
       "      <td>SI2</td>\n",
       "      <td>63.3</td>\n",
       "      <td>58.0</td>\n",
       "      <td>335.0</td>\n",
       "      <td>0.0</td>\n",
       "      <td>51.917250</td>\n",
       "    </tr>\n",
       "  </tbody>\n",
       "</table>\n",
       "</div>"
      ],
      "text/plain": [
       "   Unnamed: 0  carat      cut color clarity  depth  table  price  price_bin  \\\n",
       "0           0   0.23    Ideal     E     SI2   61.5   55.0  326.0        0.0   \n",
       "1           1   0.21  Premium     E     SI1   59.8   61.0  326.0        0.0   \n",
       "2           2   0.23     Good     E     VS1   56.9   65.0  327.0        0.0   \n",
       "3           3   0.29  Premium     I     VS2   62.4   58.0  334.0        0.0   \n",
       "4           4   0.31     Good     J     SI2   63.3   58.0  335.0        0.0   \n",
       "\n",
       "      volume  \n",
       "0  38.202030  \n",
       "1  34.505856  \n",
       "2  38.076885  \n",
       "3  46.724580  \n",
       "4  51.917250  "
      ]
     },
     "execution_count": 19,
     "metadata": {},
     "output_type": "execute_result"
    }
   ],
   "source": [
    "df2.head()"
   ]
  },
  {
   "cell_type": "code",
   "execution_count": 20,
   "metadata": {},
   "outputs": [],
   "source": [
    "df2['price_bin']=pd.cut(df2.price,bins=4,labels=[0,1,2,3])"
   ]
  },
  {
   "cell_type": "code",
   "execution_count": 21,
   "metadata": {},
   "outputs": [],
   "source": [
    "df2.drop(['Unnamed: 0', 'price'], axis=1, inplace=True)"
   ]
  },
  {
   "cell_type": "code",
   "execution_count": 22,
   "metadata": {},
   "outputs": [],
   "source": [
    "for col in df2.select_dtypes(include='O').columns:\n",
    "    df2[col] = LabelEncoder().fit_transform(df2[col])"
   ]
  },
  {
   "cell_type": "code",
   "execution_count": 23,
   "metadata": {},
   "outputs": [],
   "source": [
    "X = df2.drop(['price_bin'],axis=1)\n",
    "y = df2.price_bin\n",
    "\n",
    "X_train, X_test, y_train, y_test = train_test_split(X,y,test_size=0.30,random_state=14)"
   ]
  },
  {
   "cell_type": "code",
   "execution_count": 24,
   "metadata": {},
   "outputs": [],
   "source": [
    "train = pd.concat([X_train,y_train],axis=1)\n",
    "up = upsample_classes(train, 'price_bin')"
   ]
  },
  {
   "cell_type": "code",
   "execution_count": 25,
   "metadata": {},
   "outputs": [],
   "source": [
    "X_train = up.drop('price_bin',axis=1)\n",
    "y_train = up.price_bin"
   ]
  },
  {
   "cell_type": "code",
   "execution_count": 26,
   "metadata": {},
   "outputs": [
    {
     "name": "stdout",
     "output_type": "stream",
     "text": [
      "4\n"
     ]
    }
   ],
   "source": [
    "y_train = to_categorical(y_train)\n",
    "y_test = to_categorical(y_test)\n",
    "\n",
    "count_classes = y_test.shape[1]\n",
    "print(count_classes)"
   ]
  },
  {
   "cell_type": "code",
   "execution_count": 27,
   "metadata": {},
   "outputs": [],
   "source": [
    "model3 = Sequential()\n",
    "\n",
    "n_cols_3 = X_train.shape[1]\n",
    "\n",
    "model3.add(Dense(250, activation='relu', input_shape = (n_cols_3,)))\n",
    "model3.add(Dense(250, activation='relu'))\n",
    "model3.add(Dense(250, activation='relu'))\n",
    "model3.add(Dense(y_train.shape[1], activation='softmax'))"
   ]
  },
  {
   "cell_type": "code",
   "execution_count": 28,
   "metadata": {},
   "outputs": [],
   "source": [
    "model3.compile(optimizer='adam', loss='categorical_crossentropy',metrics=['accuracy'])"
   ]
  },
  {
   "cell_type": "code",
   "execution_count": 29,
   "metadata": {},
   "outputs": [
    {
     "name": "stdout",
     "output_type": "stream",
     "text": [
      "Epoch 1/30\n",
      "2561/2561 [==============================] - 4s 2ms/step - loss: 0.4281 - accuracy: 0.8319 - val_loss: 19.9512 - val_accuracy: 0.0000e+00\n",
      "Epoch 2/30\n",
      "2561/2561 [==============================] - 4s 2ms/step - loss: 0.3421 - accuracy: 0.8601 - val_loss: 28.0378 - val_accuracy: 0.0000e+00\n",
      "Epoch 3/30\n",
      "2561/2561 [==============================] - 4s 2ms/step - loss: 0.2739 - accuracy: 0.8885 - val_loss: 29.0404 - val_accuracy: 0.0000e+00\n",
      "Epoch 4/30\n",
      "2561/2561 [==============================] - 4s 2ms/step - loss: 0.2214 - accuracy: 0.9142 - val_loss: 34.2147 - val_accuracy: 0.0000e+00\n"
     ]
    },
    {
     "data": {
      "text/plain": [
       "<tensorflow.python.keras.callbacks.History at 0x7faf5295cc50>"
      ]
     },
     "execution_count": 29,
     "metadata": {},
     "output_type": "execute_result"
    }
   ],
   "source": [
    "model3.fit(X_train, y_train, epochs=30, validation_split= 0.25, callbacks=early_stopping_monitor)"
   ]
  },
  {
   "cell_type": "code",
   "execution_count": 30,
   "metadata": {},
   "outputs": [],
   "source": [
    "pred_train= model3.predict(X_train)\n",
    "scores = model3.evaluate(X_train, y_train, verbose=0)\n",
    " \n",
    "pred_test= model3.predict(X_test)\n",
    "scores2 = model3.evaluate(X_test, y_test, verbose=0)    "
   ]
  },
  {
   "cell_type": "code",
   "execution_count": null,
   "metadata": {},
   "outputs": [],
   "source": [
    "prds3 = []\n",
    "for i in list(preds3.reshape(-1,1)):\n",
    "    prds3.append(int(i))\n",
    "    \n",
    "y_t_3 = []\n",
    "for i in list(y_test.reshape(-1,1)):\n",
    "    y_t_3.append(int(i))"
   ]
  }
 ],
 "metadata": {
  "kernelspec": {
   "display_name": "Python 3",
   "language": "python",
   "name": "python3"
  },
  "language_info": {
   "codemirror_mode": {
    "name": "ipython",
    "version": 3
   },
   "file_extension": ".py",
   "mimetype": "text/x-python",
   "name": "python",
   "nbconvert_exporter": "python",
   "pygments_lexer": "ipython3",
   "version": "3.7.6"
  }
 },
 "nbformat": 4,
 "nbformat_minor": 4
}
